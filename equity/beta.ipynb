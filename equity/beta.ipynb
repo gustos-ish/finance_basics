{
 "cells": [
  {
   "cell_type": "markdown",
   "metadata": {},
   "source": [
    "# Bêta"
   ]
  },
  {
   "cell_type": "markdown",
   "metadata": {},
   "source": [
    "Let us learn how one can compute the beta of a portfolio and its hedge with python.\n",
    "Therefore, let us take a portfolio composed with only one stock (Microsoft) that we will hedge with the US equities index : S&P 500.\n",
    "\n",
    "Microsoft : MSFT, S&P 500 : ^GSPC"
   ]
  },
  {
   "cell_type": "markdown",
   "metadata": {},
   "source": [
    "A beta coefficient is a measure of the volatility, or systematic risk, of an individual stock in comparison to the unsystematic risk of the entire market. Beta is used in the capital asset pricing model (CAPM), which calculates the expected return of an asset using beta and expected market returns. \n",
    "\n",
    "In statistical terms, beta represents the slope of the line through a regression of data points from an individual stock's returns against those of the market."
   ]
  },
  {
   "cell_type": "markdown",
   "metadata": {},
   "source": [
    "* |beta| > 1 : the portfolio is more volatile than the market\n",
    "* |beta| < 1 : the portfolio is less volatile than the market\n",
    "\n",
    "* beta > 0 : the portfolio return tend to move in the same direction as the market\n",
    "* beta < 0 : the portfolio return tend to move in the opposite direction to the market"
   ]
  },
  {
   "cell_type": "markdown",
   "metadata": {},
   "source": [
    "*sources:* \n",
    "- *https://finance.yahoo.com/*\n",
    "- *https://www.investopedia.com/terms/b/beta.asp*\n",
    "- *https://en.wikipedia.org/wiki/Beta_(finance)*\n",
    "- *https://docs.scipy.org/doc/scipy/reference/generated/scipy.stats.linregress.html*\n",
    "- *https://pandas.pydata.org/pandas-docs/stable/index.html*"
   ]
  },
  {
   "cell_type": "code",
   "execution_count": 1,
   "metadata": {},
   "outputs": [],
   "source": [
    "import os\n",
    "import numpy as np\n",
    "import pandas as pd\n",
    "import datetime as dt\n",
    "import matplotlib.pyplot as plt\n",
    "from pandas.tseries.offsets import BDay\n",
    "from scipy.stats import linregress\n",
    "\n",
    "##########################\n",
    "# CUSTOM DISPLAY OF FLOATS\n",
    "##########################\n",
    "format_float = lambda value: f'{value:.2%}' if abs(value) <= 1 else f'{value:,}'\n",
    "pd.options.display.float_format = format_float"
   ]
  },
  {
   "cell_type": "markdown",
   "metadata": {},
   "source": [
    "### Loading prices from csv files "
   ]
  },
  {
   "cell_type": "code",
   "execution_count": 2,
   "metadata": {},
   "outputs": [],
   "source": [
    "PRICES_FOLDER = fr\"C:\\Users\\User\\Documents\\Finance\\data\"\n",
    "RENAMING_DICT = {'Date': 'trading_date', 'Adj Close': 'adj_close'}\n",
    "def compute_returns(ticker: str) -> pd.DataFrame:\n",
    "    \"\"\"\n",
    "    Method to compute the returns of a stock from the prices file\n",
    "    \n",
    "    :param ticker: str\n",
    "    :return: pd.DataFrame\n",
    "    \"\"\"\n",
    "    data_file = os.path.join(PRICES_FOLDER, f'{ticker}.csv')\n",
    "    df = pd.read_csv(\n",
    "        filepath_or_buffer=data_file, \n",
    "        converters={'Date': pd.to_datetime}\n",
    "    )\n",
    "    df = df.rename(columns=RENAMING_DICT)\n",
    "    df = df.set_index('trading_date')\n",
    "    df['return'] = df['adj_close'].pct_change()\n",
    "    returns = df[['return']].rename(columns={'return' :f'return_{ticker}'})\n",
    "    return returns"
   ]
  },
  {
   "cell_type": "code",
   "execution_count": 3,
   "metadata": {},
   "outputs": [],
   "source": [
    "msft_return = compute_returns(ticker='MSFT')\n",
    "spy_return = compute_returns(ticker='^GSPC')\n",
    "data = msft_return.merge(right=spy_return, how='inner', left_index=True, right_index=True)\n",
    "data = data.dropna()"
   ]
  },
  {
   "cell_type": "code",
   "execution_count": 4,
   "metadata": {},
   "outputs": [
    {
     "data": {
      "text/html": [
       "<div>\n",
       "<style scoped>\n",
       "    .dataframe tbody tr th:only-of-type {\n",
       "        vertical-align: middle;\n",
       "    }\n",
       "\n",
       "    .dataframe tbody tr th {\n",
       "        vertical-align: top;\n",
       "    }\n",
       "\n",
       "    .dataframe thead th {\n",
       "        text-align: right;\n",
       "    }\n",
       "</style>\n",
       "<table border=\"1\" class=\"dataframe\">\n",
       "  <thead>\n",
       "    <tr style=\"text-align: right;\">\n",
       "      <th></th>\n",
       "      <th>return_MSFT</th>\n",
       "      <th>return_^GSPC</th>\n",
       "    </tr>\n",
       "    <tr>\n",
       "      <th>trading_date</th>\n",
       "      <th></th>\n",
       "      <th></th>\n",
       "    </tr>\n",
       "  </thead>\n",
       "  <tbody>\n",
       "    <tr>\n",
       "      <th>2000-01-03</th>\n",
       "      <td>-0.16%</td>\n",
       "      <td>-0.95%</td>\n",
       "    </tr>\n",
       "    <tr>\n",
       "      <th>2000-01-04</th>\n",
       "      <td>-3.38%</td>\n",
       "      <td>-3.83%</td>\n",
       "    </tr>\n",
       "    <tr>\n",
       "      <th>2000-01-05</th>\n",
       "      <td>1.05%</td>\n",
       "      <td>0.19%</td>\n",
       "    </tr>\n",
       "    <tr>\n",
       "      <th>2000-01-06</th>\n",
       "      <td>-3.35%</td>\n",
       "      <td>0.10%</td>\n",
       "    </tr>\n",
       "    <tr>\n",
       "      <th>2000-01-07</th>\n",
       "      <td>1.31%</td>\n",
       "      <td>2.71%</td>\n",
       "    </tr>\n",
       "    <tr>\n",
       "      <th>2018-11-26</th>\n",
       "      <td>3.30%</td>\n",
       "      <td>1.55%</td>\n",
       "    </tr>\n",
       "    <tr>\n",
       "      <th>2018-11-27</th>\n",
       "      <td>0.63%</td>\n",
       "      <td>0.33%</td>\n",
       "    </tr>\n",
       "    <tr>\n",
       "      <th>2018-11-28</th>\n",
       "      <td>3.71%</td>\n",
       "      <td>2.30%</td>\n",
       "    </tr>\n",
       "    <tr>\n",
       "      <th>2018-11-29</th>\n",
       "      <td>-0.84%</td>\n",
       "      <td>-0.22%</td>\n",
       "    </tr>\n",
       "    <tr>\n",
       "      <th>2018-11-30</th>\n",
       "      <td>0.64%</td>\n",
       "      <td>0.82%</td>\n",
       "    </tr>\n",
       "  </tbody>\n",
       "</table>\n",
       "</div>"
      ],
      "text/plain": [
       "              return_MSFT  return_^GSPC\n",
       "trading_date                           \n",
       "2000-01-03         -0.16%        -0.95%\n",
       "2000-01-04         -3.38%        -3.83%\n",
       "2000-01-05          1.05%         0.19%\n",
       "2000-01-06         -3.35%         0.10%\n",
       "2000-01-07          1.31%         2.71%\n",
       "2018-11-26          3.30%         1.55%\n",
       "2018-11-27          0.63%         0.33%\n",
       "2018-11-28          3.71%         2.30%\n",
       "2018-11-29         -0.84%        -0.22%\n",
       "2018-11-30          0.64%         0.82%"
      ]
     },
     "execution_count": 4,
     "metadata": {},
     "output_type": "execute_result"
    }
   ],
   "source": [
    "data.head().append(data.tail())"
   ]
  },
  {
   "cell_type": "markdown",
   "metadata": {},
   "source": [
    "## Computing the bêta"
   ]
  },
  {
   "cell_type": "markdown",
   "metadata": {},
   "source": [
    "$r_{i}$ : return of the stock at trading date i\n",
    "\n",
    "\n",
    "$h_{i}$ : return of the hedge at trading date i\n",
    "\n",
    "$r = (r_{i})_{i \\in [0, T]}$, $h = (h_{i})_{i \\in [0, T]}$"
   ]
  },
  {
   "cell_type": "markdown",
   "metadata": {},
   "source": [
    "First method : $\\beta = \\frac{cov(r, h)}{var(h)}$\n",
    "\n",
    "Second method, by linear regression : $r = \\beta * h + \\alpha$\n",
    "\n",
    "Both methods permit to compute the beta of our portfolio and our hedge."
   ]
  },
  {
   "cell_type": "code",
   "execution_count": 5,
   "metadata": {},
   "outputs": [],
   "source": [
    "stock = 'MSFT'\n",
    "hedge = '^GSPC'"
   ]
  },
  {
   "cell_type": "code",
   "execution_count": 6,
   "metadata": {},
   "outputs": [],
   "source": [
    "beta = data.cov()[f'return_{hedge}'][f'return_{stock}'] / data[f'return_{hedge}'].var()\n",
    "slope, intercept, r_value, p_value, std_err = linregress(x=data[f'return_{hedge}'], y=data[f'return_{stock}'])"
   ]
  },
  {
   "cell_type": "markdown",
   "metadata": {},
   "source": [
    "$slope = \\beta$ , $intercept = alpha$\n",
    "\n",
    "$r_{value} = corr(r, h) = \\frac{cov(r, h)}{\\sigma_{r} * \\sigma_{h}}$\n",
    "\n",
    "$p_{value}$ : two-sided p-value for a hypothesis test whose null hypothesis is that the slope is zero, using Wald Test with t-distribution of the test statistic.\n",
    "\n",
    "stderr : Standard error of the estimated gradient "
   ]
  },
  {
   "cell_type": "code",
   "execution_count": 7,
   "metadata": {},
   "outputs": [
    {
     "data": {
      "text/plain": [
       "(1.0739085170087548, 1.0739085170087568)"
      ]
     },
     "execution_count": 7,
     "metadata": {},
     "output_type": "execute_result"
    }
   ],
   "source": [
    "beta, slope"
   ]
  },
  {
   "cell_type": "code",
   "execution_count": 8,
   "metadata": {},
   "outputs": [
    {
     "name": "stdout",
     "output_type": "stream",
     "text": [
      "THE BETA OF MSFT and ^GSPC \n",
      " FROM 2000-01-03 TO 2018-11-30 \n",
      " IS  1.07391\n"
     ]
    }
   ],
   "source": [
    "print(f\"THE BETA OF {stock} and {hedge} \\n FROM {data.index.min().date()} TO {data.index.max().date()} \\n IS {beta: 0.6}\")"
   ]
  },
  {
   "cell_type": "code",
   "execution_count": 9,
   "metadata": {},
   "outputs": [
    {
     "data": {
      "text/plain": [
       "[<matplotlib.lines.Line2D at 0x2483a96d6a0>]"
      ]
     },
     "execution_count": 9,
     "metadata": {},
     "output_type": "execute_result"
    },
    {
     "data": {
      "image/png": "[encoded data removed]",
      "text/plain": [
       "<Figure size 1440x720 with 1 Axes>"
      ]
     },
     "metadata": {
      "needs_background": "light"
     },
     "output_type": "display_data"
    }
   ],
   "source": [
    "data.plot(x=f'return_{hedge}', y=f'return_{stock}', kind='scatter', figsize=(20, 10))\n",
    "plt.plot(data[f'return_{hedge}'], intercept + slope * data[f'return_{hedge}'], 'r', label='fitted line')"
   ]
  },
  {
   "cell_type": "markdown",
   "metadata": {},
   "source": [
    "## Computing the bêta for different periods "
   ]
  },
  {
   "cell_type": "markdown",
   "metadata": {},
   "source": [
    "For the precedent example, we computed the beta for the returns on the whole period 2000-01-03 TO 2018-11-30.\n",
    "\n",
    "Let us see how one can compute it for different periods, with rolling functions."
   ]
  },
  {
   "cell_type": "code",
   "execution_count": 10,
   "metadata": {},
   "outputs": [],
   "source": [
    "beta_10d = (\n",
    "    data.rolling(window=10).cov()[f'return_{hedge}'].xs(f\"return_{stock}\", level=1) / \n",
    "    data.rolling(window=10).var()[f'return_{hedge}']\n",
    ").dropna().to_frame().rename(columns={f'return_{hedge}': 'beta_10d'})\n",
    "\n",
    "beta_3m = (\n",
    "    data.rolling(window=60).cov()[f'return_{hedge}'].xs(f\"return_{stock}\", level=1) / \n",
    "    data.rolling(window=60).var()[f'return_{hedge}']\n",
    ").dropna().to_frame().rename(columns={f'return_{hedge}': 'beta_3m'})\n",
    "beta_6m = (\n",
    "    data.rolling(window=120).cov()[f'return_{hedge}'].xs(f\"return_{stock}\", level=1) / \n",
    "    data.rolling(window=120).var()[f'return_{hedge}']\n",
    ").dropna().to_frame().rename(columns={f'return_{hedge}': 'beta_6m'})\n",
    "beta_1y = (\n",
    "    data.rolling(window=250).cov()[f'return_{hedge}'].xs(f\"return_{stock}\", level=1) / \n",
    "    data.rolling(window=250).var()[f'return_{hedge}']\n",
    ").dropna().to_frame().rename(columns={f'return_{hedge}': 'beta_1y'})\n",
    "\n",
    "beta = beta_1y.merge(beta_6m, how='left', left_index=True, right_index=True)\n",
    "beta = beta.merge(beta_3m, how='left', left_index=True, right_index=True)\n",
    "beta = beta.merge(beta_10d, how='left', left_index=True, right_index=True)"
   ]
  },
  {
   "cell_type": "code",
   "execution_count": 11,
   "metadata": {},
   "outputs": [
    {
     "data": {
      "text/html": [
       "<div>\n",
       "<style scoped>\n",
       "    .dataframe tbody tr th:only-of-type {\n",
       "        vertical-align: middle;\n",
       "    }\n",
       "\n",
       "    .dataframe tbody tr th {\n",
       "        vertical-align: top;\n",
       "    }\n",
       "\n",
       "    .dataframe thead th {\n",
       "        text-align: right;\n",
       "    }\n",
       "</style>\n",
       "<table border=\"1\" class=\"dataframe\">\n",
       "  <thead>\n",
       "    <tr style=\"text-align: right;\">\n",
       "      <th></th>\n",
       "      <th>beta_1y</th>\n",
       "      <th>beta_6m</th>\n",
       "      <th>beta_3m</th>\n",
       "      <th>beta_10d</th>\n",
       "    </tr>\n",
       "    <tr>\n",
       "      <th>trading_date</th>\n",
       "      <th></th>\n",
       "      <th></th>\n",
       "      <th></th>\n",
       "      <th></th>\n",
       "    </tr>\n",
       "  </thead>\n",
       "  <tbody>\n",
       "    <tr>\n",
       "      <th>2000-12-27</th>\n",
       "      <td>1.3641401308864172</td>\n",
       "      <td>1.668340449513831</td>\n",
       "      <td>1.8999659887600424</td>\n",
       "      <td>2.747072414694144</td>\n",
       "    </tr>\n",
       "    <tr>\n",
       "      <th>2000-12-28</th>\n",
       "      <td>1.3630734785291234</td>\n",
       "      <td>1.6546572156486168</td>\n",
       "      <td>1.8706646080493017</td>\n",
       "      <td>2.7030144693141693</td>\n",
       "    </tr>\n",
       "    <tr>\n",
       "      <th>2000-12-29</th>\n",
       "      <td>1.3822574420982505</td>\n",
       "      <td>1.6597658364395254</td>\n",
       "      <td>1.888802669725221</td>\n",
       "      <td>2.758441448642907</td>\n",
       "    </tr>\n",
       "    <tr>\n",
       "      <th>2001-01-02</th>\n",
       "      <td>1.3578295258143076</td>\n",
       "      <td>1.5867310932005587</td>\n",
       "      <td>1.7934472737245626</td>\n",
       "      <td>1.657958704390604</td>\n",
       "    </tr>\n",
       "    <tr>\n",
       "      <th>2001-01-03</th>\n",
       "      <td>1.3978796273145466</td>\n",
       "      <td>1.6549037407208664</td>\n",
       "      <td>1.8792443117849629</td>\n",
       "      <td>1.9667488244952722</td>\n",
       "    </tr>\n",
       "    <tr>\n",
       "      <th>2018-11-26</th>\n",
       "      <td>1.4779757700949072</td>\n",
       "      <td>1.5641169048217585</td>\n",
       "      <td>1.5887622552438367</td>\n",
       "      <td>1.8146712549936186</td>\n",
       "    </tr>\n",
       "    <tr>\n",
       "      <th>2018-11-27</th>\n",
       "      <td>1.4776282702821237</td>\n",
       "      <td>1.5633526370261397</td>\n",
       "      <td>1.5881711605535505</td>\n",
       "      <td>1.901854358372519</td>\n",
       "    </tr>\n",
       "    <tr>\n",
       "      <th>2018-11-28</th>\n",
       "      <td>1.481004282923414</td>\n",
       "      <td>1.5632564469871122</td>\n",
       "      <td>1.5851329409770925</td>\n",
       "      <td>1.7577241245206765</td>\n",
       "    </tr>\n",
       "    <tr>\n",
       "      <th>2018-11-29</th>\n",
       "      <td>1.4819640610860205</td>\n",
       "      <td>1.5657127386439817</td>\n",
       "      <td>1.5794982789724017</td>\n",
       "      <td>1.7526727909925555</td>\n",
       "    </tr>\n",
       "    <tr>\n",
       "      <th>2018-11-30</th>\n",
       "      <td>1.4774287005902262</td>\n",
       "      <td>1.559229347644033</td>\n",
       "      <td>1.5722455652462042</td>\n",
       "      <td>1.698226974950439</td>\n",
       "    </tr>\n",
       "  </tbody>\n",
       "</table>\n",
       "</div>"
      ],
      "text/plain": [
       "                        beta_1y            beta_6m            beta_3m  \\\n",
       "trading_date                                                            \n",
       "2000-12-27   1.3641401308864172  1.668340449513831 1.8999659887600424   \n",
       "2000-12-28   1.3630734785291234 1.6546572156486168 1.8706646080493017   \n",
       "2000-12-29   1.3822574420982505 1.6597658364395254  1.888802669725221   \n",
       "2001-01-02   1.3578295258143076 1.5867310932005587 1.7934472737245626   \n",
       "2001-01-03   1.3978796273145466 1.6549037407208664 1.8792443117849629   \n",
       "2018-11-26   1.4779757700949072 1.5641169048217585 1.5887622552438367   \n",
       "2018-11-27   1.4776282702821237 1.5633526370261397 1.5881711605535505   \n",
       "2018-11-28    1.481004282923414 1.5632564469871122 1.5851329409770925   \n",
       "2018-11-29   1.4819640610860205 1.5657127386439817 1.5794982789724017   \n",
       "2018-11-30   1.4774287005902262  1.559229347644033 1.5722455652462042   \n",
       "\n",
       "                       beta_10d  \n",
       "trading_date                     \n",
       "2000-12-27    2.747072414694144  \n",
       "2000-12-28   2.7030144693141693  \n",
       "2000-12-29    2.758441448642907  \n",
       "2001-01-02    1.657958704390604  \n",
       "2001-01-03   1.9667488244952722  \n",
       "2018-11-26   1.8146712549936186  \n",
       "2018-11-27    1.901854358372519  \n",
       "2018-11-28   1.7577241245206765  \n",
       "2018-11-29   1.7526727909925555  \n",
       "2018-11-30    1.698226974950439  "
      ]
     },
     "execution_count": 11,
     "metadata": {},
     "output_type": "execute_result"
    }
   ],
   "source": [
    "beta.head().append(beta.tail())"
   ]
  }
 ],
 "metadata": {
  "kernelspec": {
   "display_name": "Python 3",
   "language": "python",
   "name": "python3"
  },
  "language_info": {
   "codemirror_mode": {
    "name": "ipython",
    "version": 3
   },
   "file_extension": ".py",
   "mimetype": "text/x-python",
   "name": "python",
   "nbconvert_exporter": "python",
   "pygments_lexer": "ipython3",
   "version": "3.7.0"
  }
 },
 "nbformat": 4,
 "nbformat_minor": 2
}
